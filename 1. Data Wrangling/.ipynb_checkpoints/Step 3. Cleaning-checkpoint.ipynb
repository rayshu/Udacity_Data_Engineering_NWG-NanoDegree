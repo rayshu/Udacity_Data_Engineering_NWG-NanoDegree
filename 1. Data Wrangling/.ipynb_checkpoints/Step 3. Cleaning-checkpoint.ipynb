{
 "cells": [
  {
   "cell_type": "markdown",
   "metadata": {},
   "source": [
    "### Quality \n",
    "| SNo. | Issue | Table|\n",
    "| :--- | :--- | :--- |\n",
    "| 1. |  `twitter_archive_df`|  incorrect datatype(tweet_id, in_reply_to_status_id, in_reply_to_user_id, timestamp, source) | \n",
    "| 2. | `twitter_archive_df` |  name, doggo, fluffer, pupper, puppo has None for NaN | \n",
    "| 3. | `twitter_archive_df` |  source contain html quotes | \n",
    "| 4. | `twitter_archive_df` | Delete invalid dog names |\n",
    "| 5. | `twitter_archive_df` | Correct numerator and denominator |\n",
    "| 6. | `predictions_df` | incorrect datatype(tweet_id, p1, p2, p3) | \n",
    "| 7. | `predictions_df` | remove p1_dog, p2_dog, p3_dog set as False as these are not dog types | \n",
    "| 8. | `count_df` | incorrect datatype(tweet_id) | \n",
    "\n",
    "### Tidiness\n",
    "| SNo. | Issue | \n",
    "| :--- | :--- | \n",
    "| 1. | doggo, floofer, pupper, puppo should be in one column | \n",
    "| 2. | Combine P1, P2, and P3 into prediction_type, and cofindence level columns | \n",
    "| 3. | join all three tables |"
   ]
  },
  {
   "cell_type": "code",
   "execution_count": 182,
   "metadata": {},
   "outputs": [],
   "source": [
    "import pandas as pd\n",
    "import numpy as np"
   ]
  },
  {
   "cell_type": "code",
   "execution_count": 183,
   "metadata": {},
   "outputs": [],
   "source": [
    "twitter_archive_df = pd.read_csv('Data/twitter-archive-enhanced.csv')\n",
    "predictions_df = pd.read_csv('Data/image-predictions.tsv', sep='\\t')\n",
    "count_df = pd.read_csv('Data/tweet_count.csv')"
   ]
  },
  {
   "cell_type": "code",
   "execution_count": 184,
   "metadata": {},
   "outputs": [],
   "source": [
    "twitter_archive_df_clean = twitter_archive_df.copy()\n",
    "predictions_df_clean = predictions_df.copy()\n",
    "count_df_clean = count_df.copy()"
   ]
  },
  {
   "cell_type": "markdown",
   "metadata": {},
   "source": [
    "### Quality "
   ]
  },
  {
   "cell_type": "markdown",
   "metadata": {},
   "source": [
    "#### Define\n",
    "1. Change the datatype for following columns:\n",
    "    - tweet_id to string\n",
    "    - in_reply_to_status_id to string\n",
    "    - in_reply_to_user_id to string\n",
    "    - timestamp to datetime\n",
    "    - source to category"
   ]
  },
  {
   "cell_type": "markdown",
   "metadata": {},
   "source": [
    "#### Code"
   ]
  },
  {
   "cell_type": "code",
   "execution_count": 185,
   "metadata": {},
   "outputs": [],
   "source": [
    "twitter_archive_df_clean.tweet_id = twitter_archive_df_clean.tweet_id.astype(str)\n",
    "twitter_archive_df_clean.in_reply_to_status_id = twitter_archive_df_clean.in_reply_to_status_id.astype(str)\n",
    "twitter_archive_df_clean.in_reply_to_user_id = twitter_archive_df_clean.in_reply_to_user_id.astype(str)\n",
    "twitter_archive_df_clean.source = twitter_archive_df_clean.source.astype('category')\n",
    "twitter_archive_df_clean.timestamp = pd.to_datetime(twitter_archive_df_clean.timestamp)"
   ]
  },
  {
   "cell_type": "markdown",
   "metadata": {},
   "source": [
    "#### Test"
   ]
  },
  {
   "cell_type": "code",
   "execution_count": 186,
   "metadata": {},
   "outputs": [
    {
     "name": "stdout",
     "output_type": "stream",
     "text": [
      "<class 'pandas.core.frame.DataFrame'>\n",
      "RangeIndex: 2356 entries, 0 to 2355\n",
      "Data columns (total 17 columns):\n",
      " #   Column                      Non-Null Count  Dtype              \n",
      "---  ------                      --------------  -----              \n",
      " 0   tweet_id                    2356 non-null   object             \n",
      " 1   in_reply_to_status_id       2356 non-null   object             \n",
      " 2   in_reply_to_user_id         2356 non-null   object             \n",
      " 3   timestamp                   2356 non-null   datetime64[ns, UTC]\n",
      " 4   source                      2356 non-null   category           \n",
      " 5   text                        2356 non-null   object             \n",
      " 6   retweeted_status_id         181 non-null    float64            \n",
      " 7   retweeted_status_user_id    181 non-null    float64            \n",
      " 8   retweeted_status_timestamp  181 non-null    object             \n",
      " 9   expanded_urls               2297 non-null   object             \n",
      " 10  rating_numerator            2356 non-null   int64              \n",
      " 11  rating_denominator          2356 non-null   int64              \n",
      " 12  name                        2356 non-null   object             \n",
      " 13  doggo                       2356 non-null   object             \n",
      " 14  floofer                     2356 non-null   object             \n",
      " 15  pupper                      2356 non-null   object             \n",
      " 16  puppo                       2356 non-null   object             \n",
      "dtypes: category(1), datetime64[ns, UTC](1), float64(2), int64(2), object(11)\n",
      "memory usage: 297.1+ KB\n"
     ]
    }
   ],
   "source": [
    "twitter_archive_df_clean.info()"
   ]
  },
  {
   "cell_type": "markdown",
   "metadata": {},
   "source": [
    "#### Define\n",
    "2. Replace **None** with **NaN** in following columns:\n",
    "    - name\n",
    "    - doggo\n",
    "    - fluffer\n",
    "    - pupper\n",
    "    - puppo"
   ]
  },
  {
   "cell_type": "markdown",
   "metadata": {},
   "source": [
    "#### Code"
   ]
  },
  {
   "cell_type": "code",
   "execution_count": 187,
   "metadata": {},
   "outputs": [],
   "source": [
    "twitter_archive_df_clean.name = twitter_archive_df_clean.name.replace('None', np.nan)\n",
    "twitter_archive_df_clean.doggo = twitter_archive_df_clean.doggo.replace('None', np.nan)\n",
    "twitter_archive_df_clean.floofer = twitter_archive_df_clean.floofer.replace('None', np.nan)\n",
    "twitter_archive_df_clean.pupper = twitter_archive_df_clean.pupper.replace('None', np.nan)\n",
    "twitter_archive_df_clean.puppo = twitter_archive_df_clean.puppo.replace('None', np.nan)"
   ]
  },
  {
   "cell_type": "markdown",
   "metadata": {},
   "source": [
    "#### Test"
   ]
  },
  {
   "cell_type": "code",
   "execution_count": 188,
   "metadata": {},
   "outputs": [
    {
     "name": "stdout",
     "output_type": "stream",
     "text": [
      "Empty DataFrame\n",
      "Columns: [tweet_id, in_reply_to_status_id, in_reply_to_user_id, timestamp, source, text, retweeted_status_id, retweeted_status_user_id, retweeted_status_timestamp, expanded_urls, rating_numerator, rating_denominator, name, doggo, floofer, pupper, puppo]\n",
      "Index: []\n",
      "Empty DataFrame\n",
      "Columns: [tweet_id, in_reply_to_status_id, in_reply_to_user_id, timestamp, source, text, retweeted_status_id, retweeted_status_user_id, retweeted_status_timestamp, expanded_urls, rating_numerator, rating_denominator, name, doggo, floofer, pupper, puppo]\n",
      "Index: []\n",
      "Empty DataFrame\n",
      "Columns: [tweet_id, in_reply_to_status_id, in_reply_to_user_id, timestamp, source, text, retweeted_status_id, retweeted_status_user_id, retweeted_status_timestamp, expanded_urls, rating_numerator, rating_denominator, name, doggo, floofer, pupper, puppo]\n",
      "Index: []\n",
      "Empty DataFrame\n",
      "Columns: [tweet_id, in_reply_to_status_id, in_reply_to_user_id, timestamp, source, text, retweeted_status_id, retweeted_status_user_id, retweeted_status_timestamp, expanded_urls, rating_numerator, rating_denominator, name, doggo, floofer, pupper, puppo]\n",
      "Index: []\n",
      "Empty DataFrame\n",
      "Columns: [tweet_id, in_reply_to_status_id, in_reply_to_user_id, timestamp, source, text, retweeted_status_id, retweeted_status_user_id, retweeted_status_timestamp, expanded_urls, rating_numerator, rating_denominator, name, doggo, floofer, pupper, puppo]\n",
      "Index: []\n"
     ]
    }
   ],
   "source": [
    "print(twitter_archive_df_clean[twitter_archive_df_clean.name=='None'])\n",
    "print(twitter_archive_df_clean[twitter_archive_df_clean.doggo=='None'])\n",
    "print(twitter_archive_df_clean[twitter_archive_df_clean.floofer=='None'])\n",
    "print(twitter_archive_df_clean[twitter_archive_df_clean.pupper=='None'])\n",
    "print(twitter_archive_df_clean[twitter_archive_df_clean.puppo=='None'])"
   ]
  },
  {
   "cell_type": "markdown",
   "metadata": {},
   "source": [
    "#### Define\n",
    "3. Remove html tags from source column"
   ]
  },
  {
   "cell_type": "markdown",
   "metadata": {},
   "source": [
    "#### Code"
   ]
  },
  {
   "cell_type": "code",
   "execution_count": 189,
   "metadata": {},
   "outputs": [],
   "source": [
    "twitter_archive_df_clean.source = twitter_archive_df_clean.source.str.replace('<a href=\"http://twitter.com/download/iphone\" rel=\"nofollow\">','')\n",
    "twitter_archive_df_clean.source = twitter_archive_df_clean.source.str.replace('<a href=\"http://vine.co\" rel=\"nofollow\">','')\n",
    "twitter_archive_df_clean.source = twitter_archive_df_clean.source.str.replace('<a href=\"http://twitter.com\" rel=\"nofollow\">','')\n",
    "twitter_archive_df_clean.source = twitter_archive_df_clean.source.str.replace('<a href=\"https://about.twitter.com/products/tweetdeck\" rel=\"nofollow\">','')\n",
    "twitter_archive_df_clean.source = twitter_archive_df_clean.source.str.replace('</a>','')"
   ]
  },
  {
   "cell_type": "markdown",
   "metadata": {},
   "source": [
    "#### Test"
   ]
  },
  {
   "cell_type": "code",
   "execution_count": 190,
   "metadata": {},
   "outputs": [
    {
     "data": {
      "text/plain": [
       "Twitter for iPhone     2221\n",
       "Vine - Make a Scene      91\n",
       "Twitter Web Client       33\n",
       "TweetDeck                11\n",
       "Name: source, dtype: int64"
      ]
     },
     "execution_count": 190,
     "metadata": {},
     "output_type": "execute_result"
    }
   ],
   "source": [
    "twitter_archive_df_clean.source.value_counts()"
   ]
  },
  {
   "cell_type": "markdown",
   "metadata": {},
   "source": [
    "#### Define\n",
    "4. Delete rows having incorrect dog names i.e. dog names starting with a lowercase and NaN/None"
   ]
  },
  {
   "cell_type": "markdown",
   "metadata": {},
   "source": [
    "#### Code"
   ]
  },
  {
   "cell_type": "code",
   "execution_count": 191,
   "metadata": {},
   "outputs": [],
   "source": [
    "twitter_archive_df_clean = twitter_archive_df_clean.dropna(subset=['name'])\n",
    "twitter_archive_df_clean.name = twitter_archive_df_clean[twitter_archive_df_clean.name.str[0].str.isupper()].name"
   ]
  },
  {
   "cell_type": "markdown",
   "metadata": {},
   "source": [
    "#### Test"
   ]
  },
  {
   "cell_type": "code",
   "execution_count": 192,
   "metadata": {},
   "outputs": [
    {
     "data": {
      "text/plain": [
       "Charlie         12\n",
       "Oliver          11\n",
       "Lucy            11\n",
       "Cooper          11\n",
       "Penny           10\n",
       "                ..\n",
       "Colin            1\n",
       "Alexanderson     1\n",
       "Cuddles          1\n",
       "Schnitzel        1\n",
       "Rey              1\n",
       "Name: name, Length: 931, dtype: int64"
      ]
     },
     "execution_count": 192,
     "metadata": {},
     "output_type": "execute_result"
    }
   ],
   "source": [
    "twitter_archive_df_clean.name.value_counts()"
   ]
  },
  {
   "cell_type": "code",
   "execution_count": 193,
   "metadata": {},
   "outputs": [
    {
     "name": "stdout",
     "output_type": "stream",
     "text": [
      "<class 'pandas.core.frame.DataFrame'>\n",
      "Int64Index: 1611 entries, 0 to 2354\n",
      "Data columns (total 17 columns):\n",
      " #   Column                      Non-Null Count  Dtype              \n",
      "---  ------                      --------------  -----              \n",
      " 0   tweet_id                    1611 non-null   object             \n",
      " 1   in_reply_to_status_id       1611 non-null   object             \n",
      " 2   in_reply_to_user_id         1611 non-null   object             \n",
      " 3   timestamp                   1611 non-null   datetime64[ns, UTC]\n",
      " 4   source                      1611 non-null   object             \n",
      " 5   text                        1611 non-null   object             \n",
      " 6   retweeted_status_id         116 non-null    float64            \n",
      " 7   retweeted_status_user_id    116 non-null    float64            \n",
      " 8   retweeted_status_timestamp  116 non-null    object             \n",
      " 9   expanded_urls               1611 non-null   object             \n",
      " 10  rating_numerator            1611 non-null   int64              \n",
      " 11  rating_denominator          1611 non-null   int64              \n",
      " 12  name                        1502 non-null   object             \n",
      " 13  doggo                       53 non-null     object             \n",
      " 14  floofer                     5 non-null      object             \n",
      " 15  pupper                      148 non-null    object             \n",
      " 16  puppo                       20 non-null     object             \n",
      "dtypes: datetime64[ns, UTC](1), float64(2), int64(2), object(12)\n",
      "memory usage: 226.5+ KB\n"
     ]
    }
   ],
   "source": [
    "twitter_archive_df_clean.info()"
   ]
  },
  {
   "cell_type": "markdown",
   "metadata": {},
   "source": [
    "#### Define\n",
    "5. Fix rating_numerator and rating_denominator as 4 tweets has taken numerator from rating after decimal point"
   ]
  },
  {
   "cell_type": "markdown",
   "metadata": {},
   "source": [
    "#### Code"
   ]
  },
  {
   "cell_type": "code",
   "execution_count": 194,
   "metadata": {},
   "outputs": [
    {
     "name": "stderr",
     "output_type": "stream",
     "text": [
      "C:\\Users\\ra280\\anaconda3\\lib\\site-packages\\pandas\\core\\strings.py:1954: UserWarning: This pattern has match groups. To actually get the groups, use str.extract.\n",
      "  return func(self, *args, **kwargs)\n"
     ]
    },
    {
     "data": {
      "text/html": [
       "<div>\n",
       "<style scoped>\n",
       "    .dataframe tbody tr th:only-of-type {\n",
       "        vertical-align: middle;\n",
       "    }\n",
       "\n",
       "    .dataframe tbody tr th {\n",
       "        vertical-align: top;\n",
       "    }\n",
       "\n",
       "    .dataframe thead th {\n",
       "        text-align: right;\n",
       "    }\n",
       "</style>\n",
       "<table border=\"1\" class=\"dataframe\">\n",
       "  <thead>\n",
       "    <tr style=\"text-align: right;\">\n",
       "      <th></th>\n",
       "      <th>0</th>\n",
       "    </tr>\n",
       "  </thead>\n",
       "  <tbody>\n",
       "    <tr>\n",
       "      <th>45</th>\n",
       "      <td>13.5</td>\n",
       "    </tr>\n",
       "    <tr>\n",
       "      <th>340</th>\n",
       "      <td>9.75</td>\n",
       "    </tr>\n",
       "    <tr>\n",
       "      <th>695</th>\n",
       "      <td>9.75</td>\n",
       "    </tr>\n",
       "    <tr>\n",
       "      <th>763</th>\n",
       "      <td>11.27</td>\n",
       "    </tr>\n",
       "  </tbody>\n",
       "</table>\n",
       "</div>"
      ],
      "text/plain": [
       "         0\n",
       "45    13.5\n",
       "340   9.75\n",
       "695   9.75\n",
       "763  11.27"
      ]
     },
     "execution_count": 194,
     "metadata": {},
     "output_type": "execute_result"
    }
   ],
   "source": [
    "value_df = twitter_archive_df_clean.loc[twitter_archive_df_clean.text.str.contains('(\\d+\\.\\d+\\/)'), 'text'].str.extract('(\\d+\\.\\d+)')\n",
    "value_df"
   ]
  },
  {
   "cell_type": "code",
   "execution_count": 195,
   "metadata": {},
   "outputs": [],
   "source": [
    "twitter_archive_df_clean.at[45,'rating_numerator']=float(value_df.loc[45][0])\n",
    "twitter_archive_df_clean.at[340, 'rating_numerator']=float(value_df.loc[340][0])\n",
    "twitter_archive_df_clean.at[695, 'rating_numerator']=float(value_df.loc[695][0])\n",
    "twitter_archive_df_clean.at[763, 'rating_numerator']=float(value_df.loc[763][0])"
   ]
  },
  {
   "cell_type": "markdown",
   "metadata": {},
   "source": [
    "#### Test"
   ]
  },
  {
   "cell_type": "code",
   "execution_count": 196,
   "metadata": {},
   "outputs": [
    {
     "name": "stdout",
     "output_type": "stream",
     "text": [
      "<class 'pandas.core.frame.DataFrame'>\n",
      "Int64Index: 1611 entries, 0 to 2354\n",
      "Data columns (total 17 columns):\n",
      " #   Column                      Non-Null Count  Dtype              \n",
      "---  ------                      --------------  -----              \n",
      " 0   tweet_id                    1611 non-null   object             \n",
      " 1   in_reply_to_status_id       1611 non-null   object             \n",
      " 2   in_reply_to_user_id         1611 non-null   object             \n",
      " 3   timestamp                   1611 non-null   datetime64[ns, UTC]\n",
      " 4   source                      1611 non-null   object             \n",
      " 5   text                        1611 non-null   object             \n",
      " 6   retweeted_status_id         116 non-null    float64            \n",
      " 7   retweeted_status_user_id    116 non-null    float64            \n",
      " 8   retweeted_status_timestamp  116 non-null    object             \n",
      " 9   expanded_urls               1611 non-null   object             \n",
      " 10  rating_numerator            1611 non-null   int64              \n",
      " 11  rating_denominator          1611 non-null   int64              \n",
      " 12  name                        1502 non-null   object             \n",
      " 13  doggo                       53 non-null     object             \n",
      " 14  floofer                     5 non-null      object             \n",
      " 15  pupper                      148 non-null    object             \n",
      " 16  puppo                       20 non-null     object             \n",
      "dtypes: datetime64[ns, UTC](1), float64(2), int64(2), object(12)\n",
      "memory usage: 306.5+ KB\n"
     ]
    }
   ],
   "source": [
    "twitter_archive_df_clean.info()"
   ]
  },
  {
   "cell_type": "code",
   "execution_count": 197,
   "metadata": {},
   "outputs": [
    {
     "name": "stdout",
     "output_type": "stream",
     "text": [
      "13\n",
      "9\n",
      "9\n",
      "11\n"
     ]
    }
   ],
   "source": [
    "print(twitter_archive_df_clean.loc[45].rating_numerator)\n",
    "print(twitter_archive_df_clean.loc[340].rating_numerator)\n",
    "print(twitter_archive_df_clean.loc[695].rating_numerator)\n",
    "print(twitter_archive_df_clean.loc[763].rating_numerator)"
   ]
  },
  {
   "cell_type": "markdown",
   "metadata": {},
   "source": [
    "#### Define\n",
    "6. Change the datatype for following columns:\n",
    "    - tweet_id to string\n",
    "    - p1 to category\n",
    "    - p2 to category\n",
    "    - p3 to category\n",
    "    - p1_dog to boolean\n",
    "    - p2_dog to boolean\n",
    "    - p3_dog to boolean"
   ]
  },
  {
   "cell_type": "markdown",
   "metadata": {},
   "source": [
    "#### Code"
   ]
  },
  {
   "cell_type": "code",
   "execution_count": 198,
   "metadata": {},
   "outputs": [],
   "source": [
    "predictions_df_clean.tweet_id = predictions_df_clean.tweet_id.astype(str)\n",
    "predictions_df_clean.p1 = predictions_df_clean.p1.astype('category')\n",
    "predictions_df_clean.p2 = predictions_df_clean.p2.astype('category')\n",
    "predictions_df_clean.p3 = predictions_df_clean.p3.astype('category')\n",
    "predictions_df_clean.p1_dog = predictions_df_clean.p1_dog.astype(bool)\n",
    "predictions_df_clean.p2_dog = predictions_df_clean.p2_dog.astype(bool)\n",
    "predictions_df_clean.p3_dog = predictions_df_clean.p3_dog.astype(bool)"
   ]
  },
  {
   "cell_type": "markdown",
   "metadata": {},
   "source": [
    "#### Test"
   ]
  },
  {
   "cell_type": "code",
   "execution_count": 199,
   "metadata": {},
   "outputs": [
    {
     "name": "stdout",
     "output_type": "stream",
     "text": [
      "<class 'pandas.core.frame.DataFrame'>\n",
      "RangeIndex: 2075 entries, 0 to 2074\n",
      "Data columns (total 12 columns):\n",
      " #   Column    Non-Null Count  Dtype   \n",
      "---  ------    --------------  -----   \n",
      " 0   tweet_id  2075 non-null   object  \n",
      " 1   jpg_url   2075 non-null   object  \n",
      " 2   img_num   2075 non-null   int64   \n",
      " 3   p1        2075 non-null   category\n",
      " 4   p1_conf   2075 non-null   float64 \n",
      " 5   p1_dog    2075 non-null   bool    \n",
      " 6   p2        2075 non-null   category\n",
      " 7   p2_conf   2075 non-null   float64 \n",
      " 8   p2_dog    2075 non-null   bool    \n",
      " 9   p3        2075 non-null   category\n",
      " 10  p3_conf   2075 non-null   float64 \n",
      " 11  p3_dog    2075 non-null   bool    \n",
      "dtypes: bool(3), category(3), float64(3), int64(1), object(2)\n",
      "memory usage: 174.9+ KB\n"
     ]
    }
   ],
   "source": [
    "predictions_df_clean.info()"
   ]
  },
  {
   "cell_type": "markdown",
   "metadata": {},
   "source": [
    "#### Define\n",
    "7. Remove p1_dog, p2_dog, p3_dog set as False as these are not dog types"
   ]
  },
  {
   "cell_type": "markdown",
   "metadata": {},
   "source": [
    "#### Code"
   ]
  },
  {
   "cell_type": "code",
   "execution_count": 200,
   "metadata": {},
   "outputs": [],
   "source": [
    "predictions_df_clean = predictions_df_clean[predictions_df_clean.p1_dog]\n",
    "predictions_df_clean = predictions_df_clean[predictions_df_clean.p2_dog]\n",
    "predictions_df_clean = predictions_df_clean[predictions_df_clean.p3_dog]"
   ]
  },
  {
   "cell_type": "code",
   "execution_count": 201,
   "metadata": {},
   "outputs": [
    {
     "name": "stdout",
     "output_type": "stream",
     "text": [
      "<class 'pandas.core.frame.DataFrame'>\n",
      "Int64Index: 1243 entries, 0 to 2073\n",
      "Data columns (total 12 columns):\n",
      " #   Column    Non-Null Count  Dtype   \n",
      "---  ------    --------------  -----   \n",
      " 0   tweet_id  1243 non-null   object  \n",
      " 1   jpg_url   1243 non-null   object  \n",
      " 2   img_num   1243 non-null   int64   \n",
      " 3   p1        1243 non-null   category\n",
      " 4   p1_conf   1243 non-null   float64 \n",
      " 5   p1_dog    1243 non-null   bool    \n",
      " 6   p2        1243 non-null   category\n",
      " 7   p2_conf   1243 non-null   float64 \n",
      " 8   p2_dog    1243 non-null   bool    \n",
      " 9   p3        1243 non-null   category\n",
      " 10  p3_conf   1243 non-null   float64 \n",
      " 11  p3_dog    1243 non-null   bool    \n",
      "dtypes: bool(3), category(3), float64(3), int64(1), object(2)\n",
      "memory usage: 138.2+ KB\n"
     ]
    }
   ],
   "source": [
    "predictions_df_clean.info()"
   ]
  },
  {
   "cell_type": "markdown",
   "metadata": {},
   "source": [
    "#### Test"
   ]
  },
  {
   "cell_type": "code",
   "execution_count": 202,
   "metadata": {},
   "outputs": [
    {
     "data": {
      "text/plain": [
       "{'Afghan_hound',\n",
       " 'Airedale',\n",
       " 'American_Staffordshire_terrier',\n",
       " 'Appenzeller',\n",
       " 'Australian_terrier',\n",
       " 'Bedlington_terrier',\n",
       " 'Bernese_mountain_dog',\n",
       " 'Blenheim_spaniel',\n",
       " 'Border_collie',\n",
       " 'Border_terrier',\n",
       " 'Boston_bull',\n",
       " 'Brabancon_griffon',\n",
       " 'Brittany_spaniel',\n",
       " 'Cardigan',\n",
       " 'Chesapeake_Bay_retriever',\n",
       " 'Chihuahua',\n",
       " 'Dandie_Dinmont',\n",
       " 'Doberman',\n",
       " 'English_setter',\n",
       " 'English_springer',\n",
       " 'EntleBucher',\n",
       " 'Eskimo_dog',\n",
       " 'French_bulldog',\n",
       " 'German_shepherd',\n",
       " 'German_short-haired_pointer',\n",
       " 'Gordon_setter',\n",
       " 'Great_Dane',\n",
       " 'Great_Pyrenees',\n",
       " 'Greater_Swiss_Mountain_dog',\n",
       " 'Ibizan_hound',\n",
       " 'Irish_setter',\n",
       " 'Irish_terrier',\n",
       " 'Irish_water_spaniel',\n",
       " 'Italian_greyhound',\n",
       " 'Japanese_spaniel',\n",
       " 'Labrador_retriever',\n",
       " 'Lakeland_terrier',\n",
       " 'Leonberg',\n",
       " 'Lhasa',\n",
       " 'Maltese_dog',\n",
       " 'Mexican_hairless',\n",
       " 'Newfoundland',\n",
       " 'Norfolk_terrier',\n",
       " 'Norwegian_elkhound',\n",
       " 'Norwich_terrier',\n",
       " 'Old_English_sheepdog',\n",
       " 'Pekinese',\n",
       " 'Pembroke',\n",
       " 'Pomeranian',\n",
       " 'Rhodesian_ridgeback',\n",
       " 'Rottweiler',\n",
       " 'Saint_Bernard',\n",
       " 'Saluki',\n",
       " 'Samoyed',\n",
       " 'Scotch_terrier',\n",
       " 'Scottish_deerhound',\n",
       " 'Shetland_sheepdog',\n",
       " 'Shih-Tzu',\n",
       " 'Siberian_husky',\n",
       " 'Staffordshire_bullterrier',\n",
       " 'Sussex_spaniel',\n",
       " 'Tibetan_mastiff',\n",
       " 'Tibetan_terrier',\n",
       " 'Walker_hound',\n",
       " 'Weimaraner',\n",
       " 'Welsh_springer_spaniel',\n",
       " 'West_Highland_white_terrier',\n",
       " 'Yorkshire_terrier',\n",
       " 'basenji',\n",
       " 'basset',\n",
       " 'beagle',\n",
       " 'black-and-tan_coonhound',\n",
       " 'bloodhound',\n",
       " 'bluetick',\n",
       " 'borzoi',\n",
       " 'boxer',\n",
       " 'briard',\n",
       " 'bull_mastiff',\n",
       " 'cairn',\n",
       " 'chow',\n",
       " 'clumber',\n",
       " 'cocker_spaniel',\n",
       " 'collie',\n",
       " 'curly-coated_retriever',\n",
       " 'dalmatian',\n",
       " 'flat-coated_retriever',\n",
       " 'giant_schnauzer',\n",
       " 'golden_retriever',\n",
       " 'groenendael',\n",
       " 'keeshond',\n",
       " 'kelpie',\n",
       " 'kuvasz',\n",
       " 'malamute',\n",
       " 'malinois',\n",
       " 'miniature_pinscher',\n",
       " 'miniature_poodle',\n",
       " 'miniature_schnauzer',\n",
       " 'papillon',\n",
       " 'pug',\n",
       " 'redbone',\n",
       " 'schipperke',\n",
       " 'silky_terrier',\n",
       " 'soft-coated_wheaten_terrier',\n",
       " 'standard_poodle',\n",
       " 'standard_schnauzer',\n",
       " 'toy_poodle',\n",
       " 'toy_terrier',\n",
       " 'vizsla',\n",
       " 'whippet',\n",
       " 'wire-haired_fox_terrier'}"
      ]
     },
     "execution_count": 202,
     "metadata": {},
     "output_type": "execute_result"
    }
   ],
   "source": [
    "set(predictions_df_clean.p1)"
   ]
  },
  {
   "cell_type": "code",
   "execution_count": 203,
   "metadata": {},
   "outputs": [
    {
     "data": {
      "text/plain": [
       "{'Afghan_hound',\n",
       " 'Airedale',\n",
       " 'American_Staffordshire_terrier',\n",
       " 'Appenzeller',\n",
       " 'Australian_terrier',\n",
       " 'Bedlington_terrier',\n",
       " 'Blenheim_spaniel',\n",
       " 'Border_collie',\n",
       " 'Border_terrier',\n",
       " 'Boston_bull',\n",
       " 'Brabancon_griffon',\n",
       " 'Brittany_spaniel',\n",
       " 'Cardigan',\n",
       " 'Chesapeake_Bay_retriever',\n",
       " 'Chihuahua',\n",
       " 'Dandie_Dinmont',\n",
       " 'Doberman',\n",
       " 'English_foxhound',\n",
       " 'English_setter',\n",
       " 'English_springer',\n",
       " 'EntleBucher',\n",
       " 'Eskimo_dog',\n",
       " 'French_bulldog',\n",
       " 'German_shepherd',\n",
       " 'German_short-haired_pointer',\n",
       " 'Great_Dane',\n",
       " 'Great_Pyrenees',\n",
       " 'Greater_Swiss_Mountain_dog',\n",
       " 'Ibizan_hound',\n",
       " 'Irish_setter',\n",
       " 'Irish_terrier',\n",
       " 'Irish_wolfhound',\n",
       " 'Italian_greyhound',\n",
       " 'Japanese_spaniel',\n",
       " 'Kerry_blue_terrier',\n",
       " 'Labrador_retriever',\n",
       " 'Lakeland_terrier',\n",
       " 'Leonberg',\n",
       " 'Lhasa',\n",
       " 'Maltese_dog',\n",
       " 'Mexican_hairless',\n",
       " 'Newfoundland',\n",
       " 'Norfolk_terrier',\n",
       " 'Norwegian_elkhound',\n",
       " 'Norwich_terrier',\n",
       " 'Old_English_sheepdog',\n",
       " 'Pekinese',\n",
       " 'Pembroke',\n",
       " 'Pomeranian',\n",
       " 'Rhodesian_ridgeback',\n",
       " 'Rottweiler',\n",
       " 'Saint_Bernard',\n",
       " 'Saluki',\n",
       " 'Samoyed',\n",
       " 'Scotch_terrier',\n",
       " 'Sealyham_terrier',\n",
       " 'Shetland_sheepdog',\n",
       " 'Shih-Tzu',\n",
       " 'Siberian_husky',\n",
       " 'Staffordshire_bullterrier',\n",
       " 'Sussex_spaniel',\n",
       " 'Tibetan_mastiff',\n",
       " 'Tibetan_terrier',\n",
       " 'Walker_hound',\n",
       " 'Weimaraner',\n",
       " 'Welsh_springer_spaniel',\n",
       " 'West_Highland_white_terrier',\n",
       " 'Yorkshire_terrier',\n",
       " 'affenpinscher',\n",
       " 'basenji',\n",
       " 'basset',\n",
       " 'beagle',\n",
       " 'black-and-tan_coonhound',\n",
       " 'bloodhound',\n",
       " 'bluetick',\n",
       " 'borzoi',\n",
       " 'boxer',\n",
       " 'briard',\n",
       " 'bull_mastiff',\n",
       " 'cairn',\n",
       " 'chow',\n",
       " 'cocker_spaniel',\n",
       " 'collie',\n",
       " 'curly-coated_retriever',\n",
       " 'dalmatian',\n",
       " 'flat-coated_retriever',\n",
       " 'giant_schnauzer',\n",
       " 'golden_retriever',\n",
       " 'groenendael',\n",
       " 'keeshond',\n",
       " 'kelpie',\n",
       " 'komondor',\n",
       " 'kuvasz',\n",
       " 'malamute',\n",
       " 'malinois',\n",
       " 'miniature_pinscher',\n",
       " 'miniature_poodle',\n",
       " 'miniature_schnauzer',\n",
       " 'otterhound',\n",
       " 'papillon',\n",
       " 'pug',\n",
       " 'redbone',\n",
       " 'schipperke',\n",
       " 'silky_terrier',\n",
       " 'soft-coated_wheaten_terrier',\n",
       " 'standard_poodle',\n",
       " 'standard_schnauzer',\n",
       " 'toy_poodle',\n",
       " 'toy_terrier',\n",
       " 'vizsla',\n",
       " 'whippet',\n",
       " 'wire-haired_fox_terrier'}"
      ]
     },
     "execution_count": 203,
     "metadata": {},
     "output_type": "execute_result"
    }
   ],
   "source": [
    "set(predictions_df_clean.p2)"
   ]
  },
  {
   "cell_type": "code",
   "execution_count": 204,
   "metadata": {},
   "outputs": [
    {
     "data": {
      "text/plain": [
       "{'Afghan_hound',\n",
       " 'Airedale',\n",
       " 'American_Staffordshire_terrier',\n",
       " 'Appenzeller',\n",
       " 'Australian_terrier',\n",
       " 'Bernese_mountain_dog',\n",
       " 'Blenheim_spaniel',\n",
       " 'Border_collie',\n",
       " 'Border_terrier',\n",
       " 'Boston_bull',\n",
       " 'Bouvier_des_Flandres',\n",
       " 'Brabancon_griffon',\n",
       " 'Brittany_spaniel',\n",
       " 'Cardigan',\n",
       " 'Chesapeake_Bay_retriever',\n",
       " 'Chihuahua',\n",
       " 'Dandie_Dinmont',\n",
       " 'Doberman',\n",
       " 'English_foxhound',\n",
       " 'English_setter',\n",
       " 'English_springer',\n",
       " 'EntleBucher',\n",
       " 'Eskimo_dog',\n",
       " 'French_bulldog',\n",
       " 'German_shepherd',\n",
       " 'German_short-haired_pointer',\n",
       " 'Gordon_setter',\n",
       " 'Great_Dane',\n",
       " 'Great_Pyrenees',\n",
       " 'Greater_Swiss_Mountain_dog',\n",
       " 'Ibizan_hound',\n",
       " 'Irish_setter',\n",
       " 'Irish_terrier',\n",
       " 'Irish_water_spaniel',\n",
       " 'Irish_wolfhound',\n",
       " 'Italian_greyhound',\n",
       " 'Japanese_spaniel',\n",
       " 'Kerry_blue_terrier',\n",
       " 'Labrador_retriever',\n",
       " 'Lakeland_terrier',\n",
       " 'Leonberg',\n",
       " 'Lhasa',\n",
       " 'Maltese_dog',\n",
       " 'Mexican_hairless',\n",
       " 'Newfoundland',\n",
       " 'Norfolk_terrier',\n",
       " 'Norwegian_elkhound',\n",
       " 'Norwich_terrier',\n",
       " 'Old_English_sheepdog',\n",
       " 'Pekinese',\n",
       " 'Pembroke',\n",
       " 'Pomeranian',\n",
       " 'Rhodesian_ridgeback',\n",
       " 'Rottweiler',\n",
       " 'Saint_Bernard',\n",
       " 'Saluki',\n",
       " 'Samoyed',\n",
       " 'Scottish_deerhound',\n",
       " 'Sealyham_terrier',\n",
       " 'Shetland_sheepdog',\n",
       " 'Shih-Tzu',\n",
       " 'Siberian_husky',\n",
       " 'Staffordshire_bullterrier',\n",
       " 'Sussex_spaniel',\n",
       " 'Tibetan_mastiff',\n",
       " 'Tibetan_terrier',\n",
       " 'Walker_hound',\n",
       " 'Weimaraner',\n",
       " 'Welsh_springer_spaniel',\n",
       " 'West_Highland_white_terrier',\n",
       " 'Yorkshire_terrier',\n",
       " 'affenpinscher',\n",
       " 'basenji',\n",
       " 'basset',\n",
       " 'beagle',\n",
       " 'black-and-tan_coonhound',\n",
       " 'bloodhound',\n",
       " 'bluetick',\n",
       " 'borzoi',\n",
       " 'boxer',\n",
       " 'briard',\n",
       " 'bull_mastiff',\n",
       " 'cairn',\n",
       " 'chow',\n",
       " 'clumber',\n",
       " 'cocker_spaniel',\n",
       " 'collie',\n",
       " 'curly-coated_retriever',\n",
       " 'dalmatian',\n",
       " 'flat-coated_retriever',\n",
       " 'giant_schnauzer',\n",
       " 'golden_retriever',\n",
       " 'groenendael',\n",
       " 'keeshond',\n",
       " 'kelpie',\n",
       " 'komondor',\n",
       " 'kuvasz',\n",
       " 'malamute',\n",
       " 'malinois',\n",
       " 'miniature_pinscher',\n",
       " 'miniature_poodle',\n",
       " 'miniature_schnauzer',\n",
       " 'otterhound',\n",
       " 'papillon',\n",
       " 'pug',\n",
       " 'redbone',\n",
       " 'schipperke',\n",
       " 'silky_terrier',\n",
       " 'soft-coated_wheaten_terrier',\n",
       " 'standard_poodle',\n",
       " 'standard_schnauzer',\n",
       " 'toy_poodle',\n",
       " 'toy_terrier',\n",
       " 'vizsla',\n",
       " 'whippet',\n",
       " 'wire-haired_fox_terrier'}"
      ]
     },
     "execution_count": 204,
     "metadata": {},
     "output_type": "execute_result"
    }
   ],
   "source": [
    "set(predictions_df_clean.p3)"
   ]
  },
  {
   "cell_type": "markdown",
   "metadata": {},
   "source": [
    "#### Define\n",
    "8. Incorrect datatype(tweet_id)"
   ]
  },
  {
   "cell_type": "markdown",
   "metadata": {},
   "source": [
    "#### Code"
   ]
  },
  {
   "cell_type": "code",
   "execution_count": 205,
   "metadata": {},
   "outputs": [],
   "source": [
    "count_df_clean.tweet_id = count_df_clean.tweet_id.astype(str)"
   ]
  },
  {
   "cell_type": "markdown",
   "metadata": {},
   "source": [
    "#### Test"
   ]
  },
  {
   "cell_type": "code",
   "execution_count": 206,
   "metadata": {},
   "outputs": [
    {
     "name": "stdout",
     "output_type": "stream",
     "text": [
      "<class 'pandas.core.frame.DataFrame'>\n",
      "RangeIndex: 2354 entries, 0 to 2353\n",
      "Data columns (total 3 columns):\n",
      " #   Column          Non-Null Count  Dtype \n",
      "---  ------          --------------  ----- \n",
      " 0   tweet_id        2354 non-null   object\n",
      " 1   retweet_count   2354 non-null   int64 \n",
      " 2   favorite_count  2354 non-null   int64 \n",
      "dtypes: int64(2), object(1)\n",
      "memory usage: 55.3+ KB\n"
     ]
    }
   ],
   "source": [
    "count_df_clean.info()"
   ]
  },
  {
   "cell_type": "markdown",
   "metadata": {},
   "source": [
    "### Tidiness "
   ]
  },
  {
   "cell_type": "markdown",
   "metadata": {},
   "source": [
    "#### Define\n",
    "1. doggo, floofer, pupper, puppo should be in one column"
   ]
  },
  {
   "cell_type": "markdown",
   "metadata": {},
   "source": [
    "#### Code"
   ]
  },
  {
   "cell_type": "code",
   "execution_count": 207,
   "metadata": {},
   "outputs": [
    {
     "name": "stdout",
     "output_type": "stream",
     "text": [
      "<class 'pandas.core.frame.DataFrame'>\n",
      "Int64Index: 1611 entries, 0 to 2354\n",
      "Data columns (total 17 columns):\n",
      " #   Column                      Non-Null Count  Dtype              \n",
      "---  ------                      --------------  -----              \n",
      " 0   tweet_id                    1611 non-null   object             \n",
      " 1   in_reply_to_status_id       1611 non-null   object             \n",
      " 2   in_reply_to_user_id         1611 non-null   object             \n",
      " 3   timestamp                   1611 non-null   datetime64[ns, UTC]\n",
      " 4   source                      1611 non-null   object             \n",
      " 5   text                        1611 non-null   object             \n",
      " 6   retweeted_status_id         116 non-null    float64            \n",
      " 7   retweeted_status_user_id    116 non-null    float64            \n",
      " 8   retweeted_status_timestamp  116 non-null    object             \n",
      " 9   expanded_urls               1611 non-null   object             \n",
      " 10  rating_numerator            1611 non-null   int64              \n",
      " 11  rating_denominator          1611 non-null   int64              \n",
      " 12  name                        1502 non-null   object             \n",
      " 13  doggo                       53 non-null     object             \n",
      " 14  floofer                     5 non-null      object             \n",
      " 15  pupper                      148 non-null    object             \n",
      " 16  puppo                       20 non-null     object             \n",
      "dtypes: datetime64[ns, UTC](1), float64(2), int64(2), object(12)\n",
      "memory usage: 306.5+ KB\n"
     ]
    }
   ],
   "source": [
    "twitter_archive_df_clean.info()"
   ]
  },
  {
   "cell_type": "code",
   "execution_count": 208,
   "metadata": {},
   "outputs": [],
   "source": [
    "twitter_archive_df_clean = pd.melt(twitter_archive_df_clean,\n",
    "                                  id_vars=['tweet_id',\n",
    "                                           'in_reply_to_status_id',\n",
    "                                           'in_reply_to_user_id',\n",
    "                                           'timestamp',\n",
    "                                           'source',\n",
    "                                           'text',\n",
    "                                           'retweeted_status_id',\n",
    "                                           'retweeted_status_user_id',\n",
    "                                           'retweeted_status_timestamp',\n",
    "                                           'expanded_urls',\n",
    "                                           'rating_numerator',\n",
    "                                           'rating_denominator',\n",
    "                                           'name'],\n",
    "                                   value_vars=['doggo', 'floofer', 'pupper', 'puppo'],\n",
    "                                   var_name='dog_stages',\n",
    "                                   value_name='dog_stage'\n",
    "                                  )\n",
    "twitter_archive_df_clean=twitter_archive_df_clean.drop('dog_stages',1)"
   ]
  },
  {
   "cell_type": "markdown",
   "metadata": {},
   "source": [
    "#### Test"
   ]
  },
  {
   "cell_type": "code",
   "execution_count": 209,
   "metadata": {},
   "outputs": [
    {
     "name": "stdout",
     "output_type": "stream",
     "text": [
      "<class 'pandas.core.frame.DataFrame'>\n",
      "RangeIndex: 6444 entries, 0 to 6443\n",
      "Data columns (total 14 columns):\n",
      " #   Column                      Non-Null Count  Dtype              \n",
      "---  ------                      --------------  -----              \n",
      " 0   tweet_id                    6444 non-null   object             \n",
      " 1   in_reply_to_status_id       6444 non-null   object             \n",
      " 2   in_reply_to_user_id         6444 non-null   object             \n",
      " 3   timestamp                   6444 non-null   datetime64[ns, UTC]\n",
      " 4   source                      6444 non-null   object             \n",
      " 5   text                        6444 non-null   object             \n",
      " 6   retweeted_status_id         464 non-null    float64            \n",
      " 7   retweeted_status_user_id    464 non-null    float64            \n",
      " 8   retweeted_status_timestamp  464 non-null    object             \n",
      " 9   expanded_urls               6444 non-null   object             \n",
      " 10  rating_numerator            6444 non-null   int64              \n",
      " 11  rating_denominator          6444 non-null   int64              \n",
      " 12  name                        6008 non-null   object             \n",
      " 13  dog_stage                   226 non-null    object             \n",
      "dtypes: datetime64[ns, UTC](1), float64(2), int64(2), object(9)\n",
      "memory usage: 704.9+ KB\n"
     ]
    }
   ],
   "source": [
    "twitter_archive_df_clean.info()"
   ]
  },
  {
   "cell_type": "code",
   "execution_count": 210,
   "metadata": {},
   "outputs": [
    {
     "data": {
      "text/plain": [
       "pupper     148\n",
       "doggo       53\n",
       "puppo       20\n",
       "floofer      5\n",
       "Name: dog_stage, dtype: int64"
      ]
     },
     "execution_count": 210,
     "metadata": {},
     "output_type": "execute_result"
    }
   ],
   "source": [
    "twitter_archive_df_clean.dog_stage.value_counts()"
   ]
  },
  {
   "cell_type": "markdown",
   "metadata": {},
   "source": [
    "#### Define\n",
    "2. Combine P1, P2, and P3 into dog_type_prediction, and prediction_confidence columns"
   ]
  },
  {
   "cell_type": "markdown",
   "metadata": {},
   "source": [
    "#### Code"
   ]
  },
  {
   "cell_type": "code",
   "execution_count": 211,
   "metadata": {},
   "outputs": [
    {
     "name": "stdout",
     "output_type": "stream",
     "text": [
      "<class 'pandas.core.frame.DataFrame'>\n",
      "Int64Index: 1243 entries, 0 to 2073\n",
      "Data columns (total 12 columns):\n",
      " #   Column    Non-Null Count  Dtype   \n",
      "---  ------    --------------  -----   \n",
      " 0   tweet_id  1243 non-null   object  \n",
      " 1   jpg_url   1243 non-null   object  \n",
      " 2   img_num   1243 non-null   int64   \n",
      " 3   p1        1243 non-null   category\n",
      " 4   p1_conf   1243 non-null   float64 \n",
      " 5   p1_dog    1243 non-null   bool    \n",
      " 6   p2        1243 non-null   category\n",
      " 7   p2_conf   1243 non-null   float64 \n",
      " 8   p2_dog    1243 non-null   bool    \n",
      " 9   p3        1243 non-null   category\n",
      " 10  p3_conf   1243 non-null   float64 \n",
      " 11  p3_dog    1243 non-null   bool    \n",
      "dtypes: bool(3), category(3), float64(3), int64(1), object(2)\n",
      "memory usage: 138.2+ KB\n"
     ]
    }
   ],
   "source": [
    "predictions_df_clean.info()"
   ]
  },
  {
   "cell_type": "code",
   "execution_count": 212,
   "metadata": {},
   "outputs": [],
   "source": [
    "dog_type_prediction_list = []\n",
    "prediction_confidence_list = []\n",
    "\n",
    "def combine_prediction_confidence(df):\n",
    "    if df['p1_dog']:\n",
    "        dog_type_prediction_list.append(df['p1'])\n",
    "        prediction_confidence_list.append(df['p1_conf'])\n",
    "    elif df['p2_dog']:\n",
    "        dog_type_prediction_list.append(df['p2'])\n",
    "        prediction_confidence_list.append(df['p2_conf'])\n",
    "    elif df['p3_dog']:\n",
    "        dog_type_prediction_list.append(df['p3'])\n",
    "        prediction_confidence_list.append(df['p3_conf'])\n",
    "    else:\n",
    "        dog_type_prediction_list.append(np.nan)\n",
    "        prediction_confidence_list.append(np.nan)\n",
    "        \n",
    "predictions_df_clean.apply(combine_prediction_confidence,axis=1)\n",
    "predictions_df_clean['dog_type_prediction']=dog_type_prediction_list\n",
    "predictions_df_clean['prediction_confidence']=prediction_confidence_list\n",
    "predictions_df_clean=predictions_df_clean.drop(['p1','p1_conf','p1_dog','p2','p2_conf','p2_dog','p3','p3_conf','p3_dog'],axis=1)"
   ]
  },
  {
   "cell_type": "markdown",
   "metadata": {},
   "source": [
    "#### Test"
   ]
  },
  {
   "cell_type": "code",
   "execution_count": 213,
   "metadata": {},
   "outputs": [
    {
     "name": "stdout",
     "output_type": "stream",
     "text": [
      "<class 'pandas.core.frame.DataFrame'>\n",
      "Int64Index: 1243 entries, 0 to 2073\n",
      "Data columns (total 5 columns):\n",
      " #   Column                 Non-Null Count  Dtype  \n",
      "---  ------                 --------------  -----  \n",
      " 0   tweet_id               1243 non-null   object \n",
      " 1   jpg_url                1243 non-null   object \n",
      " 2   img_num                1243 non-null   int64  \n",
      " 3   dog_type_prediction    1243 non-null   object \n",
      " 4   prediction_confidence  1243 non-null   float64\n",
      "dtypes: float64(1), int64(1), object(3)\n",
      "memory usage: 58.3+ KB\n"
     ]
    }
   ],
   "source": [
    "predictions_df_clean.info()"
   ]
  },
  {
   "cell_type": "markdown",
   "metadata": {},
   "source": [
    "#### Define\n",
    "3. Join twitter_archive_df_clean, predictions_df_clean and count_df_clean "
   ]
  },
  {
   "cell_type": "markdown",
   "metadata": {},
   "source": [
    "#### Code"
   ]
  },
  {
   "cell_type": "code",
   "execution_count": 214,
   "metadata": {},
   "outputs": [],
   "source": [
    "twitter_archive_master = pd.merge(twitter_archive_df_clean, predictions_df_clean,\n",
    "                                 on=['tweet_id'], how='left')\n",
    "twitter_archive_master = pd.merge(twitter_archive_master, count_df_clean,\n",
    "                                 on=['tweet_id'], how='left')"
   ]
  },
  {
   "cell_type": "code",
   "execution_count": 215,
   "metadata": {},
   "outputs": [],
   "source": [
    "twitter_archive_master.retweet_count = twitter_archive_master.retweet_count.fillna(0)\n",
    "twitter_archive_master.retweet_count = twitter_archive_master.retweet_count.astype(int)\n",
    "twitter_archive_master.favorite_count = twitter_archive_master.favorite_count.fillna(0)\n",
    "twitter_archive_master.favorite_count = twitter_archive_master.favorite_count.astype(int)"
   ]
  },
  {
   "cell_type": "code",
   "execution_count": 223,
   "metadata": {},
   "outputs": [],
   "source": [
    "twitter_archive_master=twitter_archive_master.drop_duplicates()"
   ]
  },
  {
   "cell_type": "markdown",
   "metadata": {},
   "source": [
    "#### Test"
   ]
  },
  {
   "cell_type": "code",
   "execution_count": 225,
   "metadata": {},
   "outputs": [
    {
     "name": "stdout",
     "output_type": "stream",
     "text": [
      "<class 'pandas.core.frame.DataFrame'>\n",
      "Int64Index: 1837 entries, 0 to 5619\n",
      "Data columns (total 20 columns):\n",
      " #   Column                      Non-Null Count  Dtype              \n",
      "---  ------                      --------------  -----              \n",
      " 0   tweet_id                    1837 non-null   object             \n",
      " 1   in_reply_to_status_id       1837 non-null   object             \n",
      " 2   in_reply_to_user_id         1837 non-null   object             \n",
      " 3   timestamp                   1837 non-null   datetime64[ns, UTC]\n",
      " 4   source                      1837 non-null   object             \n",
      " 5   text                        1837 non-null   object             \n",
      " 6   retweeted_status_id         139 non-null    float64            \n",
      " 7   retweeted_status_user_id    139 non-null    float64            \n",
      " 8   retweeted_status_timestamp  139 non-null    object             \n",
      " 9   expanded_urls               1837 non-null   object             \n",
      " 10  rating_numerator            1837 non-null   int64              \n",
      " 11  rating_denominator          1837 non-null   int64              \n",
      " 12  name                        1710 non-null   object             \n",
      " 13  dog_stage                   226 non-null    object             \n",
      " 14  jpg_url                     1061 non-null   object             \n",
      " 15  img_num                     1061 non-null   float64            \n",
      " 16  dog_type_prediction         1061 non-null   object             \n",
      " 17  prediction_confidence       1061 non-null   float64            \n",
      " 18  retweet_count               1837 non-null   int32              \n",
      " 19  favorite_count              1837 non-null   int32              \n",
      "dtypes: datetime64[ns, UTC](1), float64(4), int32(2), int64(2), object(11)\n",
      "memory usage: 287.0+ KB\n"
     ]
    }
   ],
   "source": [
    "twitter_archive_master.info()"
   ]
  },
  {
   "cell_type": "markdown",
   "metadata": {},
   "source": [
    "## Storing Data"
   ]
  },
  {
   "cell_type": "code",
   "execution_count": 227,
   "metadata": {},
   "outputs": [],
   "source": [
    "twitter_archive_master.to_csv('Data/twitter_archive_master.csv', index=False)"
   ]
  },
  {
   "cell_type": "code",
   "execution_count": null,
   "metadata": {},
   "outputs": [],
   "source": []
  }
 ],
 "metadata": {
  "kernelspec": {
   "display_name": "Python 3",
   "language": "python",
   "name": "python3"
  },
  "language_info": {
   "codemirror_mode": {
    "name": "ipython",
    "version": 3
   },
   "file_extension": ".py",
   "mimetype": "text/x-python",
   "name": "python",
   "nbconvert_exporter": "python",
   "pygments_lexer": "ipython3",
   "version": "3.8.3"
  }
 },
 "nbformat": 4,
 "nbformat_minor": 4
}
